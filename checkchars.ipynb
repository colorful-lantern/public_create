# checkchars.ipynb  read text and count characters
with open("sample.txt", "r", encoding="utf-8") as file:
    text = file.read()
char_count = len(text)
print(f"文字数: {char_count}")
